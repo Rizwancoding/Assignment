{
  "metadata": {
    "kernelspec": {
      "name": "python",
      "display_name": "Pyolite",
      "language": "python"
    },
    "language_info": {
      "codemirror_mode": {
        "name": "python",
        "version": 3
      },
      "file_extension": ".py",
      "mimetype": "text/x-python",
      "name": "python",
      "nbconvert_exporter": "python",
      "pygments_lexer": "ipython3",
      "version": "3.8"
    }
  },
  "nbformat_minor": 4,
  "nbformat": 4,
  "cells": [
    {
      "cell_type": "markdown",
      "source": "<center>\n    <img src=\"https://cf-courses-data.s3.us.cloud-object-storage.appdomain.cloud/IBMDeveloperSkillsNetwork-DS0105EN-SkillsNetwork/labs/Module2/images/SN_web_lightmode.png\" width=\"300\" alt=\"cognitiveclass.ai logo\">\n</center>\n",
      "metadata": {}
    },
    {
      "cell_type": "markdown",
      "source": "#### Add your code below following the instructions given in the course\n",
      "metadata": {}
    },
    {
      "cell_type": "markdown",
      "source": "# Exercise 2\n# Title\n<h1>Assessment Note Book<h1>",
      "metadata": {}
    },
    {
      "cell_type": "markdown",
      "source": "# Exercise 3\n# Introduction\nIntroduction: The assessment would include practice of markdown and code cells",
      "metadata": {}
    },
    {
      "cell_type": "markdown",
      "source": "# Exercise 4\n# Data Science Languages\n**'Python' \n'R'\n'SQL'\n'Java'\n'C++'\n'Julia'\n'Scala'\n'Matlab'**",
      "metadata": {}
    },
    {
      "cell_type": "markdown",
      "source": "# Exercise 5\n# Data Science Libraries\n*<br>Pandas<br>Keras<br>scipy<br>pytorch<br>tensorflow<br>MatplotLib<br>*\n",
      "metadata": {}
    },
    {
      "cell_type": "markdown",
      "source": "# Exercise 6\n# Table for data science tools\n| Tool | Purpose |\n|----|-------|\n|Python | Programming|\n|PowerBi| Data Analytics|\n|Tableau| Data Visualisation|\n|R| Codong |\n|Jupyter| IDE |\n|Excels| Data Visualisation |",
      "metadata": {}
    },
    {
      "cell_type": "markdown",
      "source": "# Exercise 7\n# Mathematical Expression\n$ \\frac {b^2}{a^2}\\$",
      "metadata": {}
    },
    {
      "cell_type": "code",
      "source": "# Arithmetic Operation\na = 13\nb = 10\nprint(a + b)\nprint(a * b)",
      "metadata": {
        "trusted": true
      },
      "execution_count": 1,
      "outputs": [
        {
          "name": "stdout",
          "text": "23\n130\n",
          "output_type": "stream"
        }
      ]
    },
    {
      "cell_type": "code",
      "source": "# Minutes to Hours\nfrom datetime import timedelta\nstr(timedelta(minutes=100))[:-3]",
      "metadata": {
        "trusted": true
      },
      "execution_count": 5,
      "outputs": [
        {
          "execution_count": 5,
          "output_type": "execute_result",
          "data": {
            "text/plain": "'1:40'"
          },
          "metadata": {}
        }
      ]
    },
    {
      "cell_type": "markdown",
      "source": "# Insetred Cell\n# Objectives\n1. Tools for Data Science\n2. Programming Practice",
      "metadata": {}
    },
    {
      "cell_type": "code",
      "source": "",
      "metadata": {},
      "execution_count": null,
      "outputs": []
    }
  ]
}